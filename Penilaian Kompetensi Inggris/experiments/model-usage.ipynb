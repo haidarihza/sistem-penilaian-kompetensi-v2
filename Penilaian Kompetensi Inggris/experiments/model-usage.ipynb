{
 "cells": [
  {
   "cell_type": "code",
   "execution_count": 1,
   "id": "c65c2e43-1a54-4d2e-b56f-86276dd299b0",
   "metadata": {},
   "outputs": [],
   "source": [
    "import sys\n",
    "sys.path.append('../')"
   ]
  },
  {
   "cell_type": "code",
   "execution_count": 2,
   "id": "3486ed33-947c-47a3-9087-9813a10e1379",
   "metadata": {},
   "outputs": [],
   "source": [
    "from src.model import *\n",
    "import copy\n",
    "import torch"
   ]
  },
  {
   "cell_type": "code",
   "execution_count": 3,
   "id": "32140095-ae5f-4af6-a9d3-0ffef794646d",
   "metadata": {},
   "outputs": [],
   "source": [
    "device = torch.device('cuda' if torch.cuda.is_available() else 'cpu')"
   ]
  },
  {
   "cell_type": "code",
   "execution_count": 4,
   "id": "2f139f4e-f2db-4217-80d2-b42af81704be",
   "metadata": {},
   "outputs": [],
   "source": [
    "model = CompetenceModel.load('../models/all-mpnet-base-v2', 'biencoder', state_dict_path=None, device=device)"
   ]
  },
  {
   "cell_type": "code",
   "execution_count": 5,
   "id": "eb4b33fa-eaa8-43ff-89e4-8c2c19d7a2a8",
   "metadata": {},
   "outputs": [
    {
     "name": "stdout",
     "output_type": "stream",
     "text": [
      "Predict probabilities:\n",
      "tensor([[0.2958, 0.3807, 0.3235],\n",
      "        [0.2924, 0.4210, 0.2866]])\n"
     ]
    }
   ],
   "source": [
    "# Model prediction sample\n",
    "\n",
    "sample_transcripts = ['First transcript', 'Second transcript']\n",
    "sample_competence_sets = [\n",
    "    ['Not competent', 'Half competent', 'Fully competent'], \n",
    "    ['Not competent', 'Half competent', 'Fully competent'],\n",
    "]\n",
    "\n",
    "with torch.no_grad():\n",
    "    scores = model(sample_transcripts, sample_competence_sets)\n",
    "\n",
    "print('Predict probabilities:')\n",
    "print(scores)"
   ]
  },
  {
   "cell_type": "code",
   "execution_count": 6,
   "id": "b2589f5e-a0f3-4bde-ac22-c2db326b1fe2",
   "metadata": {},
   "outputs": [],
   "source": [
    "bayesian_model = BayesianCompetenceModel(model)"
   ]
  },
  {
   "cell_type": "code",
   "execution_count": 7,
   "id": "6eb3d069-19b8-45e6-8b7d-81fe2362042a",
   "metadata": {},
   "outputs": [
    {
     "data": {
      "application/vnd.jupyter.widget-view+json": {
       "model_id": "",
       "version_major": 2,
       "version_minor": 0
      },
      "text/plain": [
       "Entropy:   0%|          | 0/4 [00:00<?, ?it/s]"
      ]
     },
     "metadata": {},
     "output_type": "display_data"
    },
    {
     "data": {
      "application/vnd.jupyter.widget-view+json": {
       "model_id": "",
       "version_major": 2,
       "version_minor": 0
      },
      "text/plain": [
       "Conditional Entropy:   0%|          | 0/4 [00:00<?, ?it/s]"
      ]
     },
     "metadata": {},
     "output_type": "display_data"
    },
    {
     "name": "stdout",
     "output_type": "stream",
     "text": [
      "Acquisition batch: CandidateBatch(scores=[0.20952335496622862, 0.590555397101315], indices=[0, 1])\n"
     ]
    }
   ],
   "source": [
    "# PowerBALD acquisition on sample\n",
    "\n",
    "sample_transcripts = ['First transcript', 'Second transcript', \n",
    "                      'Third transcript', 'Fourth transcript']\n",
    "sample_competence_sets = [\n",
    "    ['Not competent', 'Half competent', 'Fully competent'], \n",
    "    ['Not competent', 'Half competent', 'Fully competent'],\n",
    "    ['Zero skill', 'One-third skill', 'Two-third skill', 'Skill'],\n",
    "    ['Zero skill', 'One-third skill', 'Two-third skill', 'Skill'],\n",
    "]\n",
    "\n",
    "with torch.no_grad():\n",
    "    scores = bayesian_model(sample_transcripts, sample_competence_sets, k=10)\n",
    "    log_scores = torch.log(scores)\n",
    "    batch = get_powerbald_batch(log_scores, batch_size=2)\n",
    "\n",
    "print('Acquisition batch:', batch)"
   ]
  },
  {
   "cell_type": "code",
   "execution_count": null,
   "id": "fd90c98e-4646-4d43-a3d6-829f001fe6da",
   "metadata": {},
   "outputs": [],
   "source": []
  }
 ],
 "metadata": {
  "kernelspec": {
   "display_name": "Python 3 (ipykernel)",
   "language": "python",
   "name": "python3"
  },
  "language_info": {
   "codemirror_mode": {
    "name": "ipython",
    "version": 3
   },
   "file_extension": ".py",
   "mimetype": "text/x-python",
   "name": "python",
   "nbconvert_exporter": "python",
   "pygments_lexer": "ipython3",
   "version": "3.9.13"
  }
 },
 "nbformat": 4,
 "nbformat_minor": 5
}
